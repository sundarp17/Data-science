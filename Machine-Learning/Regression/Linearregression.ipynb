{
  "nbformat": 4,
  "nbformat_minor": 0,
  "metadata": {
    "colab": {
      "name": "Linearregression.ipynb",
      "provenance": [],
      "collapsed_sections": [],
      "authorship_tag": "ABX9TyOo7GkSKtEHwIGyveqz2PS8",
      "include_colab_link": true
    },
    "kernelspec": {
      "name": "python3",
      "display_name": "Python 3"
    }
  },
  "cells": [
    {
      "cell_type": "markdown",
      "metadata": {
        "id": "view-in-github",
        "colab_type": "text"
      },
      "source": [
        "<a href=\"https://colab.research.google.com/github/sundarp17/Data-science/blob/main/Machine-Learning/Regression/Linearregression.ipynb\" target=\"_parent\"><img src=\"https://colab.research.google.com/assets/colab-badge.svg\" alt=\"Open In Colab\"/></a>"
      ]
    },
    {
      "cell_type": "markdown",
      "metadata": {
        "id": "OKvXm5_zsz2e"
      },
      "source": [
        "Simple Linear regession"
      ]
    },
    {
      "cell_type": "code",
      "metadata": {
        "id": "VLEKjPXgnjY5"
      },
      "source": [
        " import numpy as np\r\n",
        " import pandas as pd\r\n",
        " import matplotlib.pyplot as plt\r\n",
        " import sklearn\r\n",
        "\r\n",
        "'''for plotting'''\r\n",
        "\r\n",
        " from pylab import rcParams\r\n",
        "\r\n",
        " from sklearn.linear_model import LinearRegression\r\n",
        " from sklearn.preprocessing import scale"
      ],
      "execution_count": 1,
      "outputs": []
    },
    {
      "cell_type": "code",
      "metadata": {
        "id": "TiRt6zqRoJgM"
      },
      "source": [
        "'''10 wide, 8 height'''\r\n",
        "rcParams['figure.figsize']=10,8"
      ],
      "execution_count": 2,
      "outputs": []
    },
    {
      "cell_type": "code",
      "metadata": {
        "colab": {
          "base_uri": "https://localhost:8080/"
        },
        "id": "ttlzIOowoZrw",
        "outputId": "933dfa4e-0389-4dfa-8bdb-ae64a5a8c945"
      },
      "source": [
        " rooms = 2*np.random.rand(100,1)+3\r\n",
        " rooms[:10]"
      ],
      "execution_count": 6,
      "outputs": [
        {
          "output_type": "execute_result",
          "data": {
            "text/plain": [
              "array([[3.75179759],\n",
              "       [4.47711822],\n",
              "       [4.10114912],\n",
              "       [4.74023979],\n",
              "       [4.55267583],\n",
              "       [3.65557026],\n",
              "       [4.73202275],\n",
              "       [4.07562375],\n",
              "       [4.31387043],\n",
              "       [4.47786156]])"
            ]
          },
          "metadata": {
            "tags": []
          },
          "execution_count": 6
        }
      ]
    },
    {
      "cell_type": "code",
      "metadata": {
        "colab": {
          "base_uri": "https://localhost:8080/"
        },
        "id": "0naN5sRTpUxp",
        "outputId": "b17fde5f-ef8d-4453-bb37-109aa3c5e568"
      },
      "source": [
        "'''randomly giving some formula for price of houses'''\r\n",
        "price = 265+ 6*rooms +abs(np.random.rand(100,1))\r\n",
        "price[:10]"
      ],
      "execution_count": 7,
      "outputs": [
        {
          "output_type": "execute_result",
          "data": {
            "text/plain": [
              "array([[288.35092503],\n",
              "       [292.62673174],\n",
              "       [290.01925516],\n",
              "       [294.13726198],\n",
              "       [292.69582418],\n",
              "       [286.99489711],\n",
              "       [294.15137013],\n",
              "       [289.45564746],\n",
              "       [291.4580414 ],\n",
              "       [292.18238278]])"
            ]
          },
          "metadata": {
            "tags": []
          },
          "execution_count": 7
        }
      ]
    },
    {
      "cell_type": "code",
      "metadata": {
        "colab": {
          "base_uri": "https://localhost:8080/",
          "height": 497
        },
        "id": "PtcLAH1_pqF4",
        "outputId": "1fa98e17-05e6-44be-88e8-2ea1abee698c"
      },
      "source": [
        "'''r^ specifies that point plot should be generated instead of default line plot'''\r\n",
        "plt.plot(rooms,price,'r^')\r\n",
        "plt.xlabel('number of rooms')\r\n",
        "plt.ylabel('price')\r\n",
        "plt.show()"
      ],
      "execution_count": 8,
      "outputs": [
        {
          "output_type": "display_data",
          "data": {
            "image/png": "[encoded data removed]",
            "text/plain": [
              "<Figure size 720x576 with 1 Axes>"
            ]
          },
          "metadata": {
            "tags": [],
            "needs_background": "light"
          }
        }
      ]
    },
    {
      "cell_type": "markdown",
      "metadata": {
        "id": "FHKI_vzxqUah"
      },
      "source": [
        "The above graph tells us that there is linear relationship between the variables and they are continuous"
      ]
    },
    {
      "cell_type": "code",
      "metadata": {
        "colab": {
          "base_uri": "https://localhost:8080/"
        },
        "id": "FmcGcbtZqeoZ",
        "outputId": "7bd083a5-4162-4752-b506-64b9aa75e6d5"
      },
      "source": [
        "'''applying linear regression'''\r\n",
        "X = rooms\r\n",
        "y = price\r\n",
        "\r\n",
        "LinReg = LinearRegression()\r\n",
        "LinReg.fit(X,y)\r\n",
        "print(LinReg.intercept_ , LinReg.coef_)"
      ],
      "execution_count": 9,
      "outputs": [
        {
          "output_type": "stream",
          "text": [
            "[265.31216678] [[6.0538943]]\n"
          ],
          "name": "stdout"
        }
      ]
    },
    {
      "cell_type": "markdown",
      "metadata": {
        "id": "URkBDun4sfbE"
      },
      "source": [
        "y=mx+b\r\n",
        "\r\n",
        "b=intercept=265.3"
      ]
    },
    {
      "cell_type": "code",
      "metadata": {
        "colab": {
          "base_uri": "https://localhost:8080/"
        },
        "id": "ladDH9SSsnMp",
        "outputId": "497df3ca-c2a2-4cd1-c97d-225b25a5c110"
      },
      "source": [
        "LinReg.score(X,y)"
      ],
      "execution_count": 10,
      "outputs": [
        {
          "output_type": "execute_result",
          "data": {
            "text/plain": [
              "0.9938008608614577"
            ]
          },
          "metadata": {
            "tags": []
          },
          "execution_count": 10
        }
      ]
    },
    {
      "cell_type": "code",
      "metadata": {
        "id": "P-2_z7FZsrUr"
      },
      "source": [
        "r square value is 0.993"
      ],
      "execution_count": null,
      "outputs": []
    }
  ]
}