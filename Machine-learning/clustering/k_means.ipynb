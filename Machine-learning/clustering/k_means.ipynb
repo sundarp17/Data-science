{
  "nbformat": 4,
  "nbformat_minor": 0,
  "metadata": {
    "colab": {
      "name": "k-means.ipynb",
      "provenance": [],
      "authorship_tag": "ABX9TyN9kNrG58QaLgK7MvKGD3AD",
      "include_colab_link": true
    },
    "kernelspec": {
      "name": "python3",
      "display_name": "Python 3"
    }
  },
  "cells": [
    {
      "cell_type": "markdown",
      "metadata": {
        "id": "view-in-github",
        "colab_type": "text"
      },
      "source": [
        "<a href=\"https://colab.research.google.com/github/sundarp17/Data-science/blob/main/Machine-learning/clustering/k_means.ipynb\" target=\"_parent\"><img src=\"https://colab.research.google.com/assets/colab-badge.svg\" alt=\"Open In Colab\"/></a>"
      ]
    },
    {
      "cell_type": "code",
      "metadata": {
        "id": "GLbPGpWE_2xD"
      },
      "source": [
        "\r\n",
        "import pandas as pd\r\n",
        "import numpy as np\r\n",
        "import seaborn as sb\r\n",
        "import matplotlib.pyplot as plt\r\n",
        "import sklearn\r\n",
        "\r\n",
        "from pandas import Series, DataFrame\r\n",
        "from pylab import rcParams\r\n",
        "from sklearn.preprocessing import scale\r\n",
        "\r\n",
        "from sklearn.cluster import KMeans\r\n",
        "from mpl_toolkits.mplot3d import Axes3D\r\n",
        "from sklearn import datasets\r\n",
        "from sklearn.model_selection import train_test_split\r\n",
        "from sklearn.model_selection import cross_val_predict\r\n",
        "\r\n",
        "from sklearn import metrics\r\n",
        "from sklearn.metrics import classification_report, confusion_matrix, precision_score, recall_score"
      ],
      "execution_count": 1,
      "outputs": []
    },
    {
      "cell_type": "code",
      "metadata": {
        "colab": {
          "base_uri": "https://localhost:8080/",
          "height": 50
        },
        "id": "vpWH55s2Aldp",
        "outputId": "1b17e759-5778-426b-a0e7-c99000f974c2"
      },
      "source": [
        "plt.figure(figsize=(7,4))\r\n"
      ],
      "execution_count": 2,
      "outputs": [
        {
          "output_type": "execute_result",
          "data": {
            "text/plain": [
              "<Figure size 504x288 with 0 Axes>"
            ]
          },
          "metadata": {
            "tags": []
          },
          "execution_count": 2
        },
        {
          "output_type": "display_data",
          "data": {
            "text/plain": [
              "<Figure size 504x288 with 0 Axes>"
            ]
          },
          "metadata": {
            "tags": []
          }
        }
      ]
    },
    {
      "cell_type": "code",
      "metadata": {
        "colab": {
          "base_uri": "https://localhost:8080/"
        },
        "id": "M-aTvYjBA1y8",
        "outputId": "8f757723-3799-4bd9-faeb-0e06dc25a63b"
      },
      "source": [
        "iris = datasets.load_iris()\r\n",
        "\r\n",
        "X=scale(iris.data)\r\n",
        "y=pd.DataFrame(iris.target)\r\n",
        "\r\n",
        "variable_names = iris.feature_names\r\n",
        "\r\n",
        "X[0:10]"
      ],
      "execution_count": 3,
      "outputs": [
        {
          "output_type": "execute_result",
          "data": {
            "text/plain": [
              "array([[-0.90068117,  1.01900435, -1.34022653, -1.3154443 ],\n",
              "       [-1.14301691, -0.13197948, -1.34022653, -1.3154443 ],\n",
              "       [-1.38535265,  0.32841405, -1.39706395, -1.3154443 ],\n",
              "       [-1.50652052,  0.09821729, -1.2833891 , -1.3154443 ],\n",
              "       [-1.02184904,  1.24920112, -1.34022653, -1.3154443 ],\n",
              "       [-0.53717756,  1.93979142, -1.16971425, -1.05217993],\n",
              "       [-1.50652052,  0.78880759, -1.34022653, -1.18381211],\n",
              "       [-1.02184904,  0.78880759, -1.2833891 , -1.3154443 ],\n",
              "       [-1.74885626, -0.36217625, -1.34022653, -1.3154443 ],\n",
              "       [-1.14301691,  0.09821729, -1.2833891 , -1.44707648]])"
            ]
          },
          "metadata": {
            "tags": []
          },
          "execution_count": 3
        }
      ]
    },
    {
      "cell_type": "markdown",
      "metadata": {
        "id": "u9QLVmatBOb_"
      },
      "source": [
        "Building and running your model"
      ]
    },
    {
      "cell_type": "code",
      "metadata": {
        "colab": {
          "base_uri": "https://localhost:8080/"
        },
        "id": "FClnSqJpBQz4",
        "outputId": "d28a9866-2ae8-477d-d864-730c71bae2fe"
      },
      "source": [
        "clustering = KMeans(n_clusters=3,random_state=5)\r\n",
        "clustering.fit(X)"
      ],
      "execution_count": 4,
      "outputs": [
        {
          "output_type": "execute_result",
          "data": {
            "text/plain": [
              "KMeans(algorithm='auto', copy_x=True, init='k-means++', max_iter=300,\n",
              "       n_clusters=3, n_init=10, n_jobs=None, precompute_distances='auto',\n",
              "       random_state=5, tol=0.0001, verbose=0)"
            ]
          },
          "metadata": {
            "tags": []
          },
          "execution_count": 4
        }
      ]
    },
    {
      "cell_type": "markdown",
      "metadata": {
        "id": "ueEgVWRNBjkB"
      },
      "source": [
        "Plotting your model outputs"
      ]
    },
    {
      "cell_type": "code",
      "metadata": {
        "id": "XNGpyHJWBmG3"
      },
      "source": [
        "iris_df = DataFrame(iris.data)\r\n",
        "iris_df.columns = ['Sepal_length','Sepal_width','Petal_length','Petal_width']\r\n",
        "y.columns = ['Targets']"
      ],
      "execution_count": 5,
      "outputs": []
    },
    {
      "cell_type": "code",
      "metadata": {
        "colab": {
          "base_uri": "https://localhost:8080/",
          "height": 195
        },
        "id": "SDJK8YRkCUfY",
        "outputId": "f83746ba-e963-4cb3-dcaf-ccef8862f933"
      },
      "source": [
        "iris_df.head()"
      ],
      "execution_count": 6,
      "outputs": [
        {
          "output_type": "execute_result",
          "data": {
            "text/html": [
              "<div>\n",
              "<style scoped>\n",
              "    .dataframe tbody tr th:only-of-type {\n",
              "        vertical-align: middle;\n",
              "    }\n",
              "\n",
              "    .dataframe tbody tr th {\n",
              "        vertical-align: top;\n",
              "    }\n",
              "\n",
              "    .dataframe thead th {\n",
              "        text-align: right;\n",
              "    }\n",
              "</style>\n",
              "<table border=\"1\" class=\"dataframe\">\n",
              "  <thead>\n",
              "    <tr style=\"text-align: right;\">\n",
              "      <th></th>\n",
              "      <th>Sepal_length</th>\n",
              "      <th>Sepal_width</th>\n",
              "      <th>Petal_length</th>\n",
              "      <th>Petal_width</th>\n",
              "    </tr>\n",
              "  </thead>\n",
              "  <tbody>\n",
              "    <tr>\n",
              "      <th>0</th>\n",
              "      <td>5.1</td>\n",
              "      <td>3.5</td>\n",
              "      <td>1.4</td>\n",
              "      <td>0.2</td>\n",
              "    </tr>\n",
              "    <tr>\n",
              "      <th>1</th>\n",
              "      <td>4.9</td>\n",
              "      <td>3.0</td>\n",
              "      <td>1.4</td>\n",
              "      <td>0.2</td>\n",
              "    </tr>\n",
              "    <tr>\n",
              "      <th>2</th>\n",
              "      <td>4.7</td>\n",
              "      <td>3.2</td>\n",
              "      <td>1.3</td>\n",
              "      <td>0.2</td>\n",
              "    </tr>\n",
              "    <tr>\n",
              "      <th>3</th>\n",
              "      <td>4.6</td>\n",
              "      <td>3.1</td>\n",
              "      <td>1.5</td>\n",
              "      <td>0.2</td>\n",
              "    </tr>\n",
              "    <tr>\n",
              "      <th>4</th>\n",
              "      <td>5.0</td>\n",
              "      <td>3.6</td>\n",
              "      <td>1.4</td>\n",
              "      <td>0.2</td>\n",
              "    </tr>\n",
              "  </tbody>\n",
              "</table>\n",
              "</div>"
            ],
            "text/plain": [
              "   Sepal_length  Sepal_width  Petal_length  Petal_width\n",
              "0           5.1          3.5           1.4          0.2\n",
              "1           4.9          3.0           1.4          0.2\n",
              "2           4.7          3.2           1.3          0.2\n",
              "3           4.6          3.1           1.5          0.2\n",
              "4           5.0          3.6           1.4          0.2"
            ]
          },
          "metadata": {
            "tags": []
          },
          "execution_count": 6
        }
      ]
    },
    {
      "cell_type": "code",
      "metadata": {
        "colab": {
          "base_uri": "https://localhost:8080/",
          "height": 281
        },
        "id": "mAw0_MX-CYYE",
        "outputId": "933ce103-ecb4-4077-a74b-b3e6b0d919d2"
      },
      "source": [
        "colors = np.array(['darkgray','lightsalmon','powderblue'])\r\n",
        "\r\n",
        "plt.subplot(1,2,1)\r\n",
        "\r\n",
        "plt.scatter(iris_df.Petal_length,iris_df.Petal_width,c=colors[iris.target],s=50)\r\n",
        "plt.title('Ground truth classification')\r\n",
        "\r\n",
        "\r\n",
        "plt.subplot(1,2,2)\r\n",
        "\r\n",
        "plt.scatter(iris_df.Petal_length,iris_df.Petal_width,c=colors[clustering.labels_],s=50)\r\n",
        "plt.title('k means classification')\r\n",
        "\r\n",
        "plt.show()\r\n"
      ],
      "execution_count": 7,
      "outputs": [
        {
          "output_type": "display_data",
          "data": {
            "image/png": "[encoded data removed]",
            "text/plain": [
              "<Figure size 432x288 with 2 Axes>"
            ]
          },
          "metadata": {
            "tags": [],
            "needs_background": "light"
          }
        }
      ]
    },
    {
      "cell_type": "code",
      "metadata": {
        "id": "b8ahgJBJDrQI"
      },
      "source": [
        "relabel = np.choose(clustering.labels_,[1,0,2]).astype(np.int64)\r\n"
      ],
      "execution_count": 16,
      "outputs": []
    },
    {
      "cell_type": "code",
      "metadata": {
        "colab": {
          "base_uri": "https://localhost:8080/",
          "height": 281
        },
        "id": "MMcsW_qQEU9e",
        "outputId": "64a35be8-fb14-4245-8ffc-b742633ccbd8"
      },
      "source": [
        "\r\n",
        "plt.subplot(1,2,1)\r\n",
        "\r\n",
        "plt.scatter(iris_df.Petal_length,iris_df.Petal_width,c=colors[iris.target],s=50)\r\n",
        "plt.title('Ground truth classification')\r\n",
        "\r\n",
        "\r\n",
        "plt.subplot(1,2,2)\r\n",
        "\r\n",
        "plt.scatter(iris_df.Petal_length,iris_df.Petal_width,c=colors[relabel],s=50)\r\n",
        "plt.title('k means classification')\r\n",
        "\r\n",
        "plt.show()"
      ],
      "execution_count": 17,
      "outputs": [
        {
          "output_type": "display_data",
          "data": {
            "image/png": "[encoded data removed]",
            "text/plain": [
              "<Figure size 432x288 with 2 Axes>"
            ]
          },
          "metadata": {
            "tags": [],
            "needs_background": "light"
          }
        }
      ]
    },
    {
      "cell_type": "markdown",
      "metadata": {
        "id": "HCaKLZuZE3Ft"
      },
      "source": [
        "Evaluating "
      ]
    },
    {
      "cell_type": "code",
      "metadata": {
        "colab": {
          "base_uri": "https://localhost:8080/"
        },
        "id": "i14wnzsrE51X",
        "outputId": "44a0dfca-c5bb-4d21-cdcd-40dbc7b09e03"
      },
      "source": [
        "print(classification_report(y,relabel))"
      ],
      "execution_count": 18,
      "outputs": [
        {
          "output_type": "stream",
          "text": [
            "              precision    recall  f1-score   support\n",
            "\n",
            "           0       1.00      1.00      1.00        50\n",
            "           1       0.74      0.78      0.76        50\n",
            "           2       0.77      0.72      0.74        50\n",
            "\n",
            "    accuracy                           0.83       150\n",
            "   macro avg       0.83      0.83      0.83       150\n",
            "weighted avg       0.83      0.83      0.83       150\n",
            "\n"
          ],
          "name": "stdout"
        }
      ]
    }
  ]
}