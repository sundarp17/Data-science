{
  "nbformat": 4,
  "nbformat_minor": 0,
  "metadata": {
    "colab": {
      "name": "missing values.ipynb",
      "provenance": [],
      "authorship_tag": "ABX9TyMWx1gC+/urt0IPDgtauOLR",
      "include_colab_link": true
    },
    "kernelspec": {
      "name": "python3",
      "display_name": "Python 3"
    }
  },
  "cells": [
    {
      "cell_type": "markdown",
      "metadata": {
        "id": "view-in-github",
        "colab_type": "text"
      },
      "source": [
        "<a href=\"https://colab.research.google.com/github/sundarp17/Data-science/blob/main/missing_values/missing_values.ipynb\" target=\"_parent\"><img src=\"https://colab.research.google.com/assets/colab-badge.svg\" alt=\"Open In Colab\"/></a>"
      ]
    },
    {
      "cell_type": "code",
      "metadata": {
        "id": "tFl5FrXzmjfn"
      },
      "source": [
        "import pandas as pd\r\n",
        "import numpy as np\r\n",
        "\r\n",
        "from pandas import Series,DataFrame"
      ],
      "execution_count": 1,
      "outputs": []
    },
    {
      "cell_type": "markdown",
      "metadata": {
        "id": "YC61_5xdnaUe"
      },
      "source": [
        "**Figuring out what data is missing**"
      ]
    },
    {
      "cell_type": "code",
      "metadata": {
        "colab": {
          "base_uri": "https://localhost:8080/"
        },
        "id": "9PtibeMfnfwL",
        "outputId": "97896175-f9fe-416d-ba15-99463f432667"
      },
      "source": [
        "missing = np.nan\r\n",
        "\r\n",
        "series_obj = Series(['row 1','row 2',missing,'row 4','row 5','row 6',missing,'row 8'])\r\n",
        "series_obj"
      ],
      "execution_count": 2,
      "outputs": [
        {
          "output_type": "execute_result",
          "data": {
            "text/plain": [
              "0    row 1\n",
              "1    row 2\n",
              "2      NaN\n",
              "3    row 4\n",
              "4    row 5\n",
              "5    row 6\n",
              "6      NaN\n",
              "7    row 8\n",
              "dtype: object"
            ]
          },
          "metadata": {
            "tags": []
          },
          "execution_count": 2
        }
      ]
    },
    {
      "cell_type": "code",
      "metadata": {
        "colab": {
          "base_uri": "https://localhost:8080/"
        },
        "id": "MtPMbgyNn_7b",
        "outputId": "c5c7ac30-d00b-463c-f8bc-3b184ec7a434"
      },
      "source": [
        "series_obj.isnull()"
      ],
      "execution_count": 3,
      "outputs": [
        {
          "output_type": "execute_result",
          "data": {
            "text/plain": [
              "0    False\n",
              "1    False\n",
              "2     True\n",
              "3    False\n",
              "4    False\n",
              "5    False\n",
              "6     True\n",
              "7    False\n",
              "dtype: bool"
            ]
          },
          "metadata": {
            "tags": []
          },
          "execution_count": 3
        }
      ]
    },
    {
      "cell_type": "markdown",
      "metadata": {
        "id": "JfipFqaloESh"
      },
      "source": [
        "**Filling in for missing values**"
      ]
    },
    {
      "cell_type": "code",
      "metadata": {
        "colab": {
          "base_uri": "https://localhost:8080/",
          "height": 225
        },
        "id": "3LaCcIjDoG2K",
        "outputId": "095c7db5-d5d5-4aa6-d7c1-1fec290f9278"
      },
      "source": [
        "np.random.seed(25)\r\n",
        "\r\n",
        "df = DataFrame(np.random.rand(36).reshape(6,6))\r\n",
        "df"
      ],
      "execution_count": 4,
      "outputs": [
        {
          "output_type": "execute_result",
          "data": {
            "text/html": [
              "<div>\n",
              "<style scoped>\n",
              "    .dataframe tbody tr th:only-of-type {\n",
              "        vertical-align: middle;\n",
              "    }\n",
              "\n",
              "    .dataframe tbody tr th {\n",
              "        vertical-align: top;\n",
              "    }\n",
              "\n",
              "    .dataframe thead th {\n",
              "        text-align: right;\n",
              "    }\n",
              "</style>\n",
              "<table border=\"1\" class=\"dataframe\">\n",
              "  <thead>\n",
              "    <tr style=\"text-align: right;\">\n",
              "      <th></th>\n",
              "      <th>0</th>\n",
              "      <th>1</th>\n",
              "      <th>2</th>\n",
              "      <th>3</th>\n",
              "      <th>4</th>\n",
              "      <th>5</th>\n",
              "    </tr>\n",
              "  </thead>\n",
              "  <tbody>\n",
              "    <tr>\n",
              "      <th>0</th>\n",
              "      <td>0.870124</td>\n",
              "      <td>0.582277</td>\n",
              "      <td>0.278839</td>\n",
              "      <td>0.185911</td>\n",
              "      <td>0.411100</td>\n",
              "      <td>0.117376</td>\n",
              "    </tr>\n",
              "    <tr>\n",
              "      <th>1</th>\n",
              "      <td>0.684969</td>\n",
              "      <td>0.437611</td>\n",
              "      <td>0.556229</td>\n",
              "      <td>0.367080</td>\n",
              "      <td>0.402366</td>\n",
              "      <td>0.113041</td>\n",
              "    </tr>\n",
              "    <tr>\n",
              "      <th>2</th>\n",
              "      <td>0.447031</td>\n",
              "      <td>0.585445</td>\n",
              "      <td>0.161985</td>\n",
              "      <td>0.520719</td>\n",
              "      <td>0.326051</td>\n",
              "      <td>0.699186</td>\n",
              "    </tr>\n",
              "    <tr>\n",
              "      <th>3</th>\n",
              "      <td>0.366395</td>\n",
              "      <td>0.836375</td>\n",
              "      <td>0.481343</td>\n",
              "      <td>0.516502</td>\n",
              "      <td>0.383048</td>\n",
              "      <td>0.997541</td>\n",
              "    </tr>\n",
              "    <tr>\n",
              "      <th>4</th>\n",
              "      <td>0.514244</td>\n",
              "      <td>0.559053</td>\n",
              "      <td>0.034450</td>\n",
              "      <td>0.719930</td>\n",
              "      <td>0.421004</td>\n",
              "      <td>0.436935</td>\n",
              "    </tr>\n",
              "    <tr>\n",
              "      <th>5</th>\n",
              "      <td>0.281701</td>\n",
              "      <td>0.900274</td>\n",
              "      <td>0.669612</td>\n",
              "      <td>0.456069</td>\n",
              "      <td>0.289804</td>\n",
              "      <td>0.525819</td>\n",
              "    </tr>\n",
              "  </tbody>\n",
              "</table>\n",
              "</div>"
            ],
            "text/plain": [
              "          0         1         2         3         4         5\n",
              "0  0.870124  0.582277  0.278839  0.185911  0.411100  0.117376\n",
              "1  0.684969  0.437611  0.556229  0.367080  0.402366  0.113041\n",
              "2  0.447031  0.585445  0.161985  0.520719  0.326051  0.699186\n",
              "3  0.366395  0.836375  0.481343  0.516502  0.383048  0.997541\n",
              "4  0.514244  0.559053  0.034450  0.719930  0.421004  0.436935\n",
              "5  0.281701  0.900274  0.669612  0.456069  0.289804  0.525819"
            ]
          },
          "metadata": {
            "tags": []
          },
          "execution_count": 4
        }
      ]
    },
    {
      "cell_type": "code",
      "metadata": {
        "colab": {
          "base_uri": "https://localhost:8080/",
          "height": 225
        },
        "id": "2DKCeduRoZqL",
        "outputId": "04141fac-0196-4f86-e39d-6d892647b03a"
      },
      "source": [
        "''''\r\n",
        "3:5 - rows\r\n",
        "0 - column\r\n",
        "   \r\n",
        "'''\r\n",
        "df.loc[3:5,0] = missing\r\n",
        "df.loc[1:4,5] = missing\r\n",
        "df"
      ],
      "execution_count": 5,
      "outputs": [
        {
          "output_type": "execute_result",
          "data": {
            "text/html": [
              "<div>\n",
              "<style scoped>\n",
              "    .dataframe tbody tr th:only-of-type {\n",
              "        vertical-align: middle;\n",
              "    }\n",
              "\n",
              "    .dataframe tbody tr th {\n",
              "        vertical-align: top;\n",
              "    }\n",
              "\n",
              "    .dataframe thead th {\n",
              "        text-align: right;\n",
              "    }\n",
              "</style>\n",
              "<table border=\"1\" class=\"dataframe\">\n",
              "  <thead>\n",
              "    <tr style=\"text-align: right;\">\n",
              "      <th></th>\n",
              "      <th>0</th>\n",
              "      <th>1</th>\n",
              "      <th>2</th>\n",
              "      <th>3</th>\n",
              "      <th>4</th>\n",
              "      <th>5</th>\n",
              "    </tr>\n",
              "  </thead>\n",
              "  <tbody>\n",
              "    <tr>\n",
              "      <th>0</th>\n",
              "      <td>0.870124</td>\n",
              "      <td>0.582277</td>\n",
              "      <td>0.278839</td>\n",
              "      <td>0.185911</td>\n",
              "      <td>0.411100</td>\n",
              "      <td>0.117376</td>\n",
              "    </tr>\n",
              "    <tr>\n",
              "      <th>1</th>\n",
              "      <td>0.684969</td>\n",
              "      <td>0.437611</td>\n",
              "      <td>0.556229</td>\n",
              "      <td>0.367080</td>\n",
              "      <td>0.402366</td>\n",
              "      <td>NaN</td>\n",
              "    </tr>\n",
              "    <tr>\n",
              "      <th>2</th>\n",
              "      <td>0.447031</td>\n",
              "      <td>0.585445</td>\n",
              "      <td>0.161985</td>\n",
              "      <td>0.520719</td>\n",
              "      <td>0.326051</td>\n",
              "      <td>NaN</td>\n",
              "    </tr>\n",
              "    <tr>\n",
              "      <th>3</th>\n",
              "      <td>NaN</td>\n",
              "      <td>0.836375</td>\n",
              "      <td>0.481343</td>\n",
              "      <td>0.516502</td>\n",
              "      <td>0.383048</td>\n",
              "      <td>NaN</td>\n",
              "    </tr>\n",
              "    <tr>\n",
              "      <th>4</th>\n",
              "      <td>NaN</td>\n",
              "      <td>0.559053</td>\n",
              "      <td>0.034450</td>\n",
              "      <td>0.719930</td>\n",
              "      <td>0.421004</td>\n",
              "      <td>NaN</td>\n",
              "    </tr>\n",
              "    <tr>\n",
              "      <th>5</th>\n",
              "      <td>NaN</td>\n",
              "      <td>0.900274</td>\n",
              "      <td>0.669612</td>\n",
              "      <td>0.456069</td>\n",
              "      <td>0.289804</td>\n",
              "      <td>0.525819</td>\n",
              "    </tr>\n",
              "  </tbody>\n",
              "</table>\n",
              "</div>"
            ],
            "text/plain": [
              "          0         1         2         3         4         5\n",
              "0  0.870124  0.582277  0.278839  0.185911  0.411100  0.117376\n",
              "1  0.684969  0.437611  0.556229  0.367080  0.402366       NaN\n",
              "2  0.447031  0.585445  0.161985  0.520719  0.326051       NaN\n",
              "3       NaN  0.836375  0.481343  0.516502  0.383048       NaN\n",
              "4       NaN  0.559053  0.034450  0.719930  0.421004       NaN\n",
              "5       NaN  0.900274  0.669612  0.456069  0.289804  0.525819"
            ]
          },
          "metadata": {
            "tags": []
          },
          "execution_count": 5
        }
      ]
    },
    {
      "cell_type": "code",
      "metadata": {
        "colab": {
          "base_uri": "https://localhost:8080/",
          "height": 225
        },
        "id": "5fjadSV5pFr_",
        "outputId": "1ada54b1-42b4-43a7-e25c-55a8a932d7fd"
      },
      "source": [
        "'''using fillna method to fill null values'''\r\n",
        "\r\n",
        "fill_df = df.fillna(0)\r\n",
        "fill_df"
      ],
      "execution_count": 7,
      "outputs": [
        {
          "output_type": "execute_result",
          "data": {
            "text/html": [
              "<div>\n",
              "<style scoped>\n",
              "    .dataframe tbody tr th:only-of-type {\n",
              "        vertical-align: middle;\n",
              "    }\n",
              "\n",
              "    .dataframe tbody tr th {\n",
              "        vertical-align: top;\n",
              "    }\n",
              "\n",
              "    .dataframe thead th {\n",
              "        text-align: right;\n",
              "    }\n",
              "</style>\n",
              "<table border=\"1\" class=\"dataframe\">\n",
              "  <thead>\n",
              "    <tr style=\"text-align: right;\">\n",
              "      <th></th>\n",
              "      <th>0</th>\n",
              "      <th>1</th>\n",
              "      <th>2</th>\n",
              "      <th>3</th>\n",
              "      <th>4</th>\n",
              "      <th>5</th>\n",
              "    </tr>\n",
              "  </thead>\n",
              "  <tbody>\n",
              "    <tr>\n",
              "      <th>0</th>\n",
              "      <td>0.870124</td>\n",
              "      <td>0.582277</td>\n",
              "      <td>0.278839</td>\n",
              "      <td>0.185911</td>\n",
              "      <td>0.411100</td>\n",
              "      <td>0.117376</td>\n",
              "    </tr>\n",
              "    <tr>\n",
              "      <th>1</th>\n",
              "      <td>0.684969</td>\n",
              "      <td>0.437611</td>\n",
              "      <td>0.556229</td>\n",
              "      <td>0.367080</td>\n",
              "      <td>0.402366</td>\n",
              "      <td>0.000000</td>\n",
              "    </tr>\n",
              "    <tr>\n",
              "      <th>2</th>\n",
              "      <td>0.447031</td>\n",
              "      <td>0.585445</td>\n",
              "      <td>0.161985</td>\n",
              "      <td>0.520719</td>\n",
              "      <td>0.326051</td>\n",
              "      <td>0.000000</td>\n",
              "    </tr>\n",
              "    <tr>\n",
              "      <th>3</th>\n",
              "      <td>0.000000</td>\n",
              "      <td>0.836375</td>\n",
              "      <td>0.481343</td>\n",
              "      <td>0.516502</td>\n",
              "      <td>0.383048</td>\n",
              "      <td>0.000000</td>\n",
              "    </tr>\n",
              "    <tr>\n",
              "      <th>4</th>\n",
              "      <td>0.000000</td>\n",
              "      <td>0.559053</td>\n",
              "      <td>0.034450</td>\n",
              "      <td>0.719930</td>\n",
              "      <td>0.421004</td>\n",
              "      <td>0.000000</td>\n",
              "    </tr>\n",
              "    <tr>\n",
              "      <th>5</th>\n",
              "      <td>0.000000</td>\n",
              "      <td>0.900274</td>\n",
              "      <td>0.669612</td>\n",
              "      <td>0.456069</td>\n",
              "      <td>0.289804</td>\n",
              "      <td>0.525819</td>\n",
              "    </tr>\n",
              "  </tbody>\n",
              "</table>\n",
              "</div>"
            ],
            "text/plain": [
              "          0         1         2         3         4         5\n",
              "0  0.870124  0.582277  0.278839  0.185911  0.411100  0.117376\n",
              "1  0.684969  0.437611  0.556229  0.367080  0.402366  0.000000\n",
              "2  0.447031  0.585445  0.161985  0.520719  0.326051  0.000000\n",
              "3  0.000000  0.836375  0.481343  0.516502  0.383048  0.000000\n",
              "4  0.000000  0.559053  0.034450  0.719930  0.421004  0.000000\n",
              "5  0.000000  0.900274  0.669612  0.456069  0.289804  0.525819"
            ]
          },
          "metadata": {
            "tags": []
          },
          "execution_count": 7
        }
      ]
    },
    {
      "cell_type": "code",
      "metadata": {
        "colab": {
          "base_uri": "https://localhost:8080/",
          "height": 225
        },
        "id": "SPvkB4zqpYRM",
        "outputId": "21f3fd90-faa6-4052-9622-054299198810"
      },
      "source": [
        "fill_df = df.fillna({0: 0.1, 5: 1.25})\r\n",
        "fill_df"
      ],
      "execution_count": 8,
      "outputs": [
        {
          "output_type": "execute_result",
          "data": {
            "text/html": [
              "<div>\n",
              "<style scoped>\n",
              "    .dataframe tbody tr th:only-of-type {\n",
              "        vertical-align: middle;\n",
              "    }\n",
              "\n",
              "    .dataframe tbody tr th {\n",
              "        vertical-align: top;\n",
              "    }\n",
              "\n",
              "    .dataframe thead th {\n",
              "        text-align: right;\n",
              "    }\n",
              "</style>\n",
              "<table border=\"1\" class=\"dataframe\">\n",
              "  <thead>\n",
              "    <tr style=\"text-align: right;\">\n",
              "      <th></th>\n",
              "      <th>0</th>\n",
              "      <th>1</th>\n",
              "      <th>2</th>\n",
              "      <th>3</th>\n",
              "      <th>4</th>\n",
              "      <th>5</th>\n",
              "    </tr>\n",
              "  </thead>\n",
              "  <tbody>\n",
              "    <tr>\n",
              "      <th>0</th>\n",
              "      <td>0.870124</td>\n",
              "      <td>0.582277</td>\n",
              "      <td>0.278839</td>\n",
              "      <td>0.185911</td>\n",
              "      <td>0.411100</td>\n",
              "      <td>0.117376</td>\n",
              "    </tr>\n",
              "    <tr>\n",
              "      <th>1</th>\n",
              "      <td>0.684969</td>\n",
              "      <td>0.437611</td>\n",
              "      <td>0.556229</td>\n",
              "      <td>0.367080</td>\n",
              "      <td>0.402366</td>\n",
              "      <td>1.250000</td>\n",
              "    </tr>\n",
              "    <tr>\n",
              "      <th>2</th>\n",
              "      <td>0.447031</td>\n",
              "      <td>0.585445</td>\n",
              "      <td>0.161985</td>\n",
              "      <td>0.520719</td>\n",
              "      <td>0.326051</td>\n",
              "      <td>1.250000</td>\n",
              "    </tr>\n",
              "    <tr>\n",
              "      <th>3</th>\n",
              "      <td>0.100000</td>\n",
              "      <td>0.836375</td>\n",
              "      <td>0.481343</td>\n",
              "      <td>0.516502</td>\n",
              "      <td>0.383048</td>\n",
              "      <td>1.250000</td>\n",
              "    </tr>\n",
              "    <tr>\n",
              "      <th>4</th>\n",
              "      <td>0.100000</td>\n",
              "      <td>0.559053</td>\n",
              "      <td>0.034450</td>\n",
              "      <td>0.719930</td>\n",
              "      <td>0.421004</td>\n",
              "      <td>1.250000</td>\n",
              "    </tr>\n",
              "    <tr>\n",
              "      <th>5</th>\n",
              "      <td>0.100000</td>\n",
              "      <td>0.900274</td>\n",
              "      <td>0.669612</td>\n",
              "      <td>0.456069</td>\n",
              "      <td>0.289804</td>\n",
              "      <td>0.525819</td>\n",
              "    </tr>\n",
              "  </tbody>\n",
              "</table>\n",
              "</div>"
            ],
            "text/plain": [
              "          0         1         2         3         4         5\n",
              "0  0.870124  0.582277  0.278839  0.185911  0.411100  0.117376\n",
              "1  0.684969  0.437611  0.556229  0.367080  0.402366  1.250000\n",
              "2  0.447031  0.585445  0.161985  0.520719  0.326051  1.250000\n",
              "3  0.100000  0.836375  0.481343  0.516502  0.383048  1.250000\n",
              "4  0.100000  0.559053  0.034450  0.719930  0.421004  1.250000\n",
              "5  0.100000  0.900274  0.669612  0.456069  0.289804  0.525819"
            ]
          },
          "metadata": {
            "tags": []
          },
          "execution_count": 8
        }
      ]
    },
    {
      "cell_type": "code",
      "metadata": {
        "colab": {
          "base_uri": "https://localhost:8080/",
          "height": 225
        },
        "id": "CMpb5zZMqD5V",
        "outputId": "578d4304-2965-4edc-c603-88e4b7a69de3"
      },
      "source": [
        "''' \r\n",
        "filling null values with the last not null value of the column\r\n",
        "\r\n",
        "'''\r\n",
        "fill_df = df.fillna(method='ffill')\r\n",
        "fill_df"
      ],
      "execution_count": 9,
      "outputs": [
        {
          "output_type": "execute_result",
          "data": {
            "text/html": [
              "<div>\n",
              "<style scoped>\n",
              "    .dataframe tbody tr th:only-of-type {\n",
              "        vertical-align: middle;\n",
              "    }\n",
              "\n",
              "    .dataframe tbody tr th {\n",
              "        vertical-align: top;\n",
              "    }\n",
              "\n",
              "    .dataframe thead th {\n",
              "        text-align: right;\n",
              "    }\n",
              "</style>\n",
              "<table border=\"1\" class=\"dataframe\">\n",
              "  <thead>\n",
              "    <tr style=\"text-align: right;\">\n",
              "      <th></th>\n",
              "      <th>0</th>\n",
              "      <th>1</th>\n",
              "      <th>2</th>\n",
              "      <th>3</th>\n",
              "      <th>4</th>\n",
              "      <th>5</th>\n",
              "    </tr>\n",
              "  </thead>\n",
              "  <tbody>\n",
              "    <tr>\n",
              "      <th>0</th>\n",
              "      <td>0.870124</td>\n",
              "      <td>0.582277</td>\n",
              "      <td>0.278839</td>\n",
              "      <td>0.185911</td>\n",
              "      <td>0.411100</td>\n",
              "      <td>0.117376</td>\n",
              "    </tr>\n",
              "    <tr>\n",
              "      <th>1</th>\n",
              "      <td>0.684969</td>\n",
              "      <td>0.437611</td>\n",
              "      <td>0.556229</td>\n",
              "      <td>0.367080</td>\n",
              "      <td>0.402366</td>\n",
              "      <td>0.117376</td>\n",
              "    </tr>\n",
              "    <tr>\n",
              "      <th>2</th>\n",
              "      <td>0.447031</td>\n",
              "      <td>0.585445</td>\n",
              "      <td>0.161985</td>\n",
              "      <td>0.520719</td>\n",
              "      <td>0.326051</td>\n",
              "      <td>0.117376</td>\n",
              "    </tr>\n",
              "    <tr>\n",
              "      <th>3</th>\n",
              "      <td>0.447031</td>\n",
              "      <td>0.836375</td>\n",
              "      <td>0.481343</td>\n",
              "      <td>0.516502</td>\n",
              "      <td>0.383048</td>\n",
              "      <td>0.117376</td>\n",
              "    </tr>\n",
              "    <tr>\n",
              "      <th>4</th>\n",
              "      <td>0.447031</td>\n",
              "      <td>0.559053</td>\n",
              "      <td>0.034450</td>\n",
              "      <td>0.719930</td>\n",
              "      <td>0.421004</td>\n",
              "      <td>0.117376</td>\n",
              "    </tr>\n",
              "    <tr>\n",
              "      <th>5</th>\n",
              "      <td>0.447031</td>\n",
              "      <td>0.900274</td>\n",
              "      <td>0.669612</td>\n",
              "      <td>0.456069</td>\n",
              "      <td>0.289804</td>\n",
              "      <td>0.525819</td>\n",
              "    </tr>\n",
              "  </tbody>\n",
              "</table>\n",
              "</div>"
            ],
            "text/plain": [
              "          0         1         2         3         4         5\n",
              "0  0.870124  0.582277  0.278839  0.185911  0.411100  0.117376\n",
              "1  0.684969  0.437611  0.556229  0.367080  0.402366  0.117376\n",
              "2  0.447031  0.585445  0.161985  0.520719  0.326051  0.117376\n",
              "3  0.447031  0.836375  0.481343  0.516502  0.383048  0.117376\n",
              "4  0.447031  0.559053  0.034450  0.719930  0.421004  0.117376\n",
              "5  0.447031  0.900274  0.669612  0.456069  0.289804  0.525819"
            ]
          },
          "metadata": {
            "tags": []
          },
          "execution_count": 9
        }
      ]
    },
    {
      "cell_type": "markdown",
      "metadata": {
        "id": "tB85kwi-qk9H"
      },
      "source": [
        "**Counting the missing values**"
      ]
    },
    {
      "cell_type": "code",
      "metadata": {
        "colab": {
          "base_uri": "https://localhost:8080/",
          "height": 225
        },
        "id": "5_sEFTzVqkAs",
        "outputId": "c871262a-d159-4b7c-eba5-43537eacc9fa"
      },
      "source": [
        "df"
      ],
      "execution_count": 10,
      "outputs": [
        {
          "output_type": "execute_result",
          "data": {
            "text/html": [
              "<div>\n",
              "<style scoped>\n",
              "    .dataframe tbody tr th:only-of-type {\n",
              "        vertical-align: middle;\n",
              "    }\n",
              "\n",
              "    .dataframe tbody tr th {\n",
              "        vertical-align: top;\n",
              "    }\n",
              "\n",
              "    .dataframe thead th {\n",
              "        text-align: right;\n",
              "    }\n",
              "</style>\n",
              "<table border=\"1\" class=\"dataframe\">\n",
              "  <thead>\n",
              "    <tr style=\"text-align: right;\">\n",
              "      <th></th>\n",
              "      <th>0</th>\n",
              "      <th>1</th>\n",
              "      <th>2</th>\n",
              "      <th>3</th>\n",
              "      <th>4</th>\n",
              "      <th>5</th>\n",
              "    </tr>\n",
              "  </thead>\n",
              "  <tbody>\n",
              "    <tr>\n",
              "      <th>0</th>\n",
              "      <td>0.870124</td>\n",
              "      <td>0.582277</td>\n",
              "      <td>0.278839</td>\n",
              "      <td>0.185911</td>\n",
              "      <td>0.411100</td>\n",
              "      <td>0.117376</td>\n",
              "    </tr>\n",
              "    <tr>\n",
              "      <th>1</th>\n",
              "      <td>0.684969</td>\n",
              "      <td>0.437611</td>\n",
              "      <td>0.556229</td>\n",
              "      <td>0.367080</td>\n",
              "      <td>0.402366</td>\n",
              "      <td>NaN</td>\n",
              "    </tr>\n",
              "    <tr>\n",
              "      <th>2</th>\n",
              "      <td>0.447031</td>\n",
              "      <td>0.585445</td>\n",
              "      <td>0.161985</td>\n",
              "      <td>0.520719</td>\n",
              "      <td>0.326051</td>\n",
              "      <td>NaN</td>\n",
              "    </tr>\n",
              "    <tr>\n",
              "      <th>3</th>\n",
              "      <td>NaN</td>\n",
              "      <td>0.836375</td>\n",
              "      <td>0.481343</td>\n",
              "      <td>0.516502</td>\n",
              "      <td>0.383048</td>\n",
              "      <td>NaN</td>\n",
              "    </tr>\n",
              "    <tr>\n",
              "      <th>4</th>\n",
              "      <td>NaN</td>\n",
              "      <td>0.559053</td>\n",
              "      <td>0.034450</td>\n",
              "      <td>0.719930</td>\n",
              "      <td>0.421004</td>\n",
              "      <td>NaN</td>\n",
              "    </tr>\n",
              "    <tr>\n",
              "      <th>5</th>\n",
              "      <td>NaN</td>\n",
              "      <td>0.900274</td>\n",
              "      <td>0.669612</td>\n",
              "      <td>0.456069</td>\n",
              "      <td>0.289804</td>\n",
              "      <td>0.525819</td>\n",
              "    </tr>\n",
              "  </tbody>\n",
              "</table>\n",
              "</div>"
            ],
            "text/plain": [
              "          0         1         2         3         4         5\n",
              "0  0.870124  0.582277  0.278839  0.185911  0.411100  0.117376\n",
              "1  0.684969  0.437611  0.556229  0.367080  0.402366       NaN\n",
              "2  0.447031  0.585445  0.161985  0.520719  0.326051       NaN\n",
              "3       NaN  0.836375  0.481343  0.516502  0.383048       NaN\n",
              "4       NaN  0.559053  0.034450  0.719930  0.421004       NaN\n",
              "5       NaN  0.900274  0.669612  0.456069  0.289804  0.525819"
            ]
          },
          "metadata": {
            "tags": []
          },
          "execution_count": 10
        }
      ]
    },
    {
      "cell_type": "code",
      "metadata": {
        "colab": {
          "base_uri": "https://localhost:8080/"
        },
        "id": "Sd9ETmZwqwu0",
        "outputId": "eb32845f-07cf-4f3a-a5a7-ac2f14a81b9d"
      },
      "source": [
        "df.isnull().sum()"
      ],
      "execution_count": 11,
      "outputs": [
        {
          "output_type": "execute_result",
          "data": {
            "text/plain": [
              "0    3\n",
              "1    0\n",
              "2    0\n",
              "3    0\n",
              "4    0\n",
              "5    4\n",
              "dtype: int64"
            ]
          },
          "metadata": {
            "tags": []
          },
          "execution_count": 11
        }
      ]
    },
    {
      "cell_type": "markdown",
      "metadata": {
        "id": "PdpPSAbVq9bG"
      },
      "source": [
        "**Filtering out missing values**"
      ]
    },
    {
      "cell_type": "code",
      "metadata": {
        "colab": {
          "base_uri": "https://localhost:8080/",
          "height": 77
        },
        "id": "DntIj0rJrAYM",
        "outputId": "41b00be5-072f-4892-c248-abd3e789f478"
      },
      "source": [
        "'''\r\n",
        "dropping rows with null values\r\n",
        "'''\r\n",
        "\r\n",
        "df_no_nan = df.dropna()\r\n",
        "df_no_nan"
      ],
      "execution_count": 12,
      "outputs": [
        {
          "output_type": "execute_result",
          "data": {
            "text/html": [
              "<div>\n",
              "<style scoped>\n",
              "    .dataframe tbody tr th:only-of-type {\n",
              "        vertical-align: middle;\n",
              "    }\n",
              "\n",
              "    .dataframe tbody tr th {\n",
              "        vertical-align: top;\n",
              "    }\n",
              "\n",
              "    .dataframe thead th {\n",
              "        text-align: right;\n",
              "    }\n",
              "</style>\n",
              "<table border=\"1\" class=\"dataframe\">\n",
              "  <thead>\n",
              "    <tr style=\"text-align: right;\">\n",
              "      <th></th>\n",
              "      <th>0</th>\n",
              "      <th>1</th>\n",
              "      <th>2</th>\n",
              "      <th>3</th>\n",
              "      <th>4</th>\n",
              "      <th>5</th>\n",
              "    </tr>\n",
              "  </thead>\n",
              "  <tbody>\n",
              "    <tr>\n",
              "      <th>0</th>\n",
              "      <td>0.870124</td>\n",
              "      <td>0.582277</td>\n",
              "      <td>0.278839</td>\n",
              "      <td>0.185911</td>\n",
              "      <td>0.4111</td>\n",
              "      <td>0.117376</td>\n",
              "    </tr>\n",
              "  </tbody>\n",
              "</table>\n",
              "</div>"
            ],
            "text/plain": [
              "          0         1         2         3       4         5\n",
              "0  0.870124  0.582277  0.278839  0.185911  0.4111  0.117376"
            ]
          },
          "metadata": {
            "tags": []
          },
          "execution_count": 12
        }
      ]
    },
    {
      "cell_type": "code",
      "metadata": {
        "colab": {
          "base_uri": "https://localhost:8080/",
          "height": 225
        },
        "id": "ROectSs4rR5t",
        "outputId": "4702aba7-b095-404c-9c9d-aebc97b6fa2e"
      },
      "source": [
        "'''\r\n",
        "dropping columns\r\n",
        "'''\r\n",
        "df_no_nan = df.dropna(axis=1)\r\n",
        "df_no_nan"
      ],
      "execution_count": 13,
      "outputs": [
        {
          "output_type": "execute_result",
          "data": {
            "text/html": [
              "<div>\n",
              "<style scoped>\n",
              "    .dataframe tbody tr th:only-of-type {\n",
              "        vertical-align: middle;\n",
              "    }\n",
              "\n",
              "    .dataframe tbody tr th {\n",
              "        vertical-align: top;\n",
              "    }\n",
              "\n",
              "    .dataframe thead th {\n",
              "        text-align: right;\n",
              "    }\n",
              "</style>\n",
              "<table border=\"1\" class=\"dataframe\">\n",
              "  <thead>\n",
              "    <tr style=\"text-align: right;\">\n",
              "      <th></th>\n",
              "      <th>1</th>\n",
              "      <th>2</th>\n",
              "      <th>3</th>\n",
              "      <th>4</th>\n",
              "    </tr>\n",
              "  </thead>\n",
              "  <tbody>\n",
              "    <tr>\n",
              "      <th>0</th>\n",
              "      <td>0.582277</td>\n",
              "      <td>0.278839</td>\n",
              "      <td>0.185911</td>\n",
              "      <td>0.411100</td>\n",
              "    </tr>\n",
              "    <tr>\n",
              "      <th>1</th>\n",
              "      <td>0.437611</td>\n",
              "      <td>0.556229</td>\n",
              "      <td>0.367080</td>\n",
              "      <td>0.402366</td>\n",
              "    </tr>\n",
              "    <tr>\n",
              "      <th>2</th>\n",
              "      <td>0.585445</td>\n",
              "      <td>0.161985</td>\n",
              "      <td>0.520719</td>\n",
              "      <td>0.326051</td>\n",
              "    </tr>\n",
              "    <tr>\n",
              "      <th>3</th>\n",
              "      <td>0.836375</td>\n",
              "      <td>0.481343</td>\n",
              "      <td>0.516502</td>\n",
              "      <td>0.383048</td>\n",
              "    </tr>\n",
              "    <tr>\n",
              "      <th>4</th>\n",
              "      <td>0.559053</td>\n",
              "      <td>0.034450</td>\n",
              "      <td>0.719930</td>\n",
              "      <td>0.421004</td>\n",
              "    </tr>\n",
              "    <tr>\n",
              "      <th>5</th>\n",
              "      <td>0.900274</td>\n",
              "      <td>0.669612</td>\n",
              "      <td>0.456069</td>\n",
              "      <td>0.289804</td>\n",
              "    </tr>\n",
              "  </tbody>\n",
              "</table>\n",
              "</div>"
            ],
            "text/plain": [
              "          1         2         3         4\n",
              "0  0.582277  0.278839  0.185911  0.411100\n",
              "1  0.437611  0.556229  0.367080  0.402366\n",
              "2  0.585445  0.161985  0.520719  0.326051\n",
              "3  0.836375  0.481343  0.516502  0.383048\n",
              "4  0.559053  0.034450  0.719930  0.421004\n",
              "5  0.900274  0.669612  0.456069  0.289804"
            ]
          },
          "metadata": {
            "tags": []
          },
          "execution_count": 13
        }
      ]
    }
  ]
}